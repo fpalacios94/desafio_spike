{
 "cells": [
  {
   "cell_type": "markdown",
   "metadata": {},
   "source": [
    "# Desafío Spike\n",
    "## Francisca Palacios"
   ]
  },
  {
   "cell_type": "markdown",
   "metadata": {},
   "source": [
    "### 1. Costos marginales"
   ]
  },
  {
   "cell_type": "code",
   "execution_count": 1,
   "metadata": {},
   "outputs": [],
   "source": [
    "import pandas as pd\n",
    "import numpy as np"
   ]
  },
  {
   "cell_type": "markdown",
   "metadata": {},
   "source": [
    "#### Importamos los archivos:"
   ]
  },
  {
   "cell_type": "code",
   "execution_count": 115,
   "metadata": {},
   "outputs": [
    {
     "data": {
      "text/html": [
       "<div>\n",
       "<style scoped>\n",
       "    .dataframe tbody tr th:only-of-type {\n",
       "        vertical-align: middle;\n",
       "    }\n",
       "\n",
       "    .dataframe tbody tr th {\n",
       "        vertical-align: top;\n",
       "    }\n",
       "\n",
       "    .dataframe thead th {\n",
       "        text-align: right;\n",
       "    }\n",
       "</style>\n",
       "<table border=\"1\" class=\"dataframe\">\n",
       "  <thead>\n",
       "    <tr style=\"text-align: right;\">\n",
       "      <th></th>\n",
       "      <th>barra_mnemotecnico</th>\n",
       "      <th>barra_referencia_mnemotecnico</th>\n",
       "      <th>fecha</th>\n",
       "      <th>hora</th>\n",
       "      <th>costo_en_dolares</th>\n",
       "      <th>costo_en_pesos</th>\n",
       "      <th>nombre</th>\n",
       "    </tr>\n",
       "  </thead>\n",
       "  <tbody>\n",
       "    <tr>\n",
       "      <th>3950455</th>\n",
       "      <td>BA07R002SE040R002</td>\n",
       "      <td>BA02T002SE032T002</td>\n",
       "      <td>2019-01-23</td>\n",
       "      <td>22</td>\n",
       "      <td>98.49</td>\n",
       "      <td>66.22665</td>\n",
       "      <td>BA S/E SAN BERNARDO 12KV BA1</td>\n",
       "    </tr>\n",
       "    <tr>\n",
       "      <th>1849557</th>\n",
       "      <td>BA02T005SE084T005</td>\n",
       "      <td>BA02T002SE032T002</td>\n",
       "      <td>2019-03-18</td>\n",
       "      <td>11</td>\n",
       "      <td>67.47</td>\n",
       "      <td>45.24673</td>\n",
       "      <td>BA S/E PADRE LAS CASAS 66KV BT1</td>\n",
       "    </tr>\n",
       "    <tr>\n",
       "      <th>3647873</th>\n",
       "      <td>BA03R019SE003R019</td>\n",
       "      <td>BA02T002SE032T002</td>\n",
       "      <td>2019-03-21</td>\n",
       "      <td>21</td>\n",
       "      <td>80.62</td>\n",
       "      <td>53.59456</td>\n",
       "      <td>BA S/E CABRERO 13.2KV</td>\n",
       "    </tr>\n",
       "    <tr>\n",
       "      <th>3601094</th>\n",
       "      <td>BA01R019SE010R019</td>\n",
       "      <td>BA02T002SE032T002</td>\n",
       "      <td>2019-02-02</td>\n",
       "      <td>21</td>\n",
       "      <td>70.35</td>\n",
       "      <td>46.27693</td>\n",
       "      <td>BA S/E LOS SAUCES 66KV</td>\n",
       "    </tr>\n",
       "    <tr>\n",
       "      <th>4206553</th>\n",
       "      <td>BA01G306SE001G306</td>\n",
       "      <td>BA02T002SE032T002</td>\n",
       "      <td>2019-04-10</td>\n",
       "      <td>24</td>\n",
       "      <td>47.08</td>\n",
       "      <td>31.21451</td>\n",
       "      <td>BA S/E CERRO DOMINADOR 220KV BP</td>\n",
       "    </tr>\n",
       "  </tbody>\n",
       "</table>\n",
       "</div>"
      ],
      "text/plain": [
       "        barra_mnemotecnico barra_referencia_mnemotecnico       fecha  hora  \\\n",
       "3950455  BA07R002SE040R002             BA02T002SE032T002  2019-01-23    22   \n",
       "1849557  BA02T005SE084T005             BA02T002SE032T002  2019-03-18    11   \n",
       "3647873  BA03R019SE003R019             BA02T002SE032T002  2019-03-21    21   \n",
       "3601094  BA01R019SE010R019             BA02T002SE032T002  2019-02-02    21   \n",
       "4206553  BA01G306SE001G306             BA02T002SE032T002  2019-04-10    24   \n",
       "\n",
       "         costo_en_dolares  costo_en_pesos                           nombre  \n",
       "3950455             98.49        66.22665     BA S/E SAN BERNARDO 12KV BA1  \n",
       "1849557             67.47        45.24673  BA S/E PADRE LAS CASAS 66KV BT1  \n",
       "3647873             80.62        53.59456            BA S/E CABRERO 13.2KV  \n",
       "3601094             70.35        46.27693           BA S/E LOS SAUCES 66KV  \n",
       "4206553             47.08        31.21451  BA S/E CERRO DOMINADOR 220KV BP  "
      ]
     },
     "execution_count": 115,
     "metadata": {},
     "output_type": "execute_result"
    }
   ],
   "source": [
    "costo_marginal_real = 'Data/costo_marginal_real.csv'\n",
    "costo_marginal_real_df = pd.read_csv(costo_marginal_real)\n",
    "\n",
    "costo_marginal_real_df = costo_marginal_real_df.sample(frac=0.01)\n",
    "costo_marginal_real_df.head()"
   ]
  },
  {
   "cell_type": "code",
   "execution_count": 116,
   "metadata": {},
   "outputs": [
    {
     "data": {
      "text/html": [
       "<div>\n",
       "<style scoped>\n",
       "    .dataframe tbody tr th:only-of-type {\n",
       "        vertical-align: middle;\n",
       "    }\n",
       "\n",
       "    .dataframe tbody tr th {\n",
       "        vertical-align: top;\n",
       "    }\n",
       "\n",
       "    .dataframe thead th {\n",
       "        text-align: right;\n",
       "    }\n",
       "</style>\n",
       "<table border=\"1\" class=\"dataframe\">\n",
       "  <thead>\n",
       "    <tr style=\"text-align: right;\">\n",
       "      <th></th>\n",
       "      <th>mnemotecnico_barra</th>\n",
       "      <th>nombre_barra</th>\n",
       "      <th>fecha</th>\n",
       "      <th>hora</th>\n",
       "      <th>costo</th>\n",
       "    </tr>\n",
       "  </thead>\n",
       "  <tbody>\n",
       "    <tr>\n",
       "      <th>759439</th>\n",
       "      <td>BA97G216SE106G216</td>\n",
       "      <td>BA S/E MEJILLONES 220KV</td>\n",
       "      <td>2019-05-15</td>\n",
       "      <td>13</td>\n",
       "      <td>44.900813</td>\n",
       "    </tr>\n",
       "    <tr>\n",
       "      <th>199248</th>\n",
       "      <td>BA03T002SE014T002</td>\n",
       "      <td>BA S/E DIEGO DE ALMAGRO 220KV SECCIÓN 1</td>\n",
       "      <td>2019-02-05</td>\n",
       "      <td>1</td>\n",
       "      <td>79.673594</td>\n",
       "    </tr>\n",
       "    <tr>\n",
       "      <th>717870</th>\n",
       "      <td>BA84L120SE050L120</td>\n",
       "      <td>BA S/E CHIMBORAZO 220KV BP</td>\n",
       "      <td>2019-05-08</td>\n",
       "      <td>12</td>\n",
       "      <td>50.051775</td>\n",
       "    </tr>\n",
       "    <tr>\n",
       "      <th>303943</th>\n",
       "      <td>BA01T001SE001T001</td>\n",
       "      <td>BA S/E SAN LUIS 220KV BP1</td>\n",
       "      <td>2019-02-23</td>\n",
       "      <td>8</td>\n",
       "      <td>50.416542</td>\n",
       "    </tr>\n",
       "    <tr>\n",
       "      <th>515241</th>\n",
       "      <td>BA31L120SE065L120</td>\n",
       "      <td>BA S/E DOMEYKO 220KV - BP1</td>\n",
       "      <td>2019-04-02</td>\n",
       "      <td>10</td>\n",
       "      <td>50.414403</td>\n",
       "    </tr>\n",
       "  </tbody>\n",
       "</table>\n",
       "</div>"
      ],
      "text/plain": [
       "       mnemotecnico_barra                             nombre_barra  \\\n",
       "759439  BA97G216SE106G216                  BA S/E MEJILLONES 220KV   \n",
       "199248  BA03T002SE014T002  BA S/E DIEGO DE ALMAGRO 220KV SECCIÓN 1   \n",
       "717870  BA84L120SE050L120               BA S/E CHIMBORAZO 220KV BP   \n",
       "303943  BA01T001SE001T001                BA S/E SAN LUIS 220KV BP1   \n",
       "515241  BA31L120SE065L120               BA S/E DOMEYKO 220KV - BP1   \n",
       "\n",
       "             fecha  hora      costo  \n",
       "759439  2019-05-15    13  44.900813  \n",
       "199248  2019-02-05     1  79.673594  \n",
       "717870  2019-05-08    12  50.051775  \n",
       "303943  2019-02-23     8  50.416542  \n",
       "515241  2019-04-02    10  50.414403  "
      ]
     },
     "execution_count": 116,
     "metadata": {},
     "output_type": "execute_result"
    }
   ],
   "source": [
    "costo_marginal_programado = 'Data/costo_marginal_programado.csv'\n",
    "costo_marginal_programado_df = pd.read_csv(costo_marginal_programado)\n",
    "\n",
    "costo_marginal_programado_df = costo_marginal_programado_df.sample(frac=0.01)\n",
    "costo_marginal_programado_df.head()"
   ]
  },
  {
   "cell_type": "markdown",
   "metadata": {},
   "source": [
    "#### Merge de los archivos a nivel de barra:"
   ]
  },
  {
   "cell_type": "code",
   "execution_count": 117,
   "metadata": {},
   "outputs": [],
   "source": [
    "# Cambiamos primero el nombre de la columna de join para que sea igual en ambos archivos.\n",
    "costo_marginal_programado_df.rename(columns={'mnemotecnico_barra': 'barra_mnemotecnico'}, inplace=True)"
   ]
  },
  {
   "cell_type": "code",
   "execution_count": 118,
   "metadata": {},
   "outputs": [],
   "source": [
    "costo_marginal = pd.merge(costo_marginal_real_df, costo_marginal_programado_df, on='barra_mnemotecnico', how='inner')"
   ]
  },
  {
   "cell_type": "markdown",
   "metadata": {},
   "source": [
    "#### Ahora hacemos un análisis exploratorio de la base resultante:"
   ]
  },
  {
   "cell_type": "code",
   "execution_count": 119,
   "metadata": {},
   "outputs": [
    {
     "data": {
      "text/plain": [
       "BA01T002SE036T002    3774\n",
       "BA01T002SE057T002    3300\n",
       "BA02T003SE004T003    3053\n",
       "BA35G010SE010G010    3016\n",
       "BA01T002SE038T002    2970\n",
       "                     ... \n",
       "BA36T027SE067G216     777\n",
       "BA01T038SE001G130     770\n",
       "BA01T005SE284T005     748\n",
       "BA01G004SE035G004     735\n",
       "BA38T005SE282T005     546\n",
       "Name: barra_mnemotecnico, Length: 220, dtype: int64"
      ]
     },
     "execution_count": 119,
     "metadata": {},
     "output_type": "execute_result"
    }
   ],
   "source": [
    "# Intersección\n",
    "costo_marginal['barra_mnemotecnico'].value_counts()"
   ]
  },
  {
   "cell_type": "code",
   "execution_count": 120,
   "metadata": {},
   "outputs": [
    {
     "data": {
      "text/plain": [
       "BA01T002SE036T002    3774\n",
       "BA01T002SE057T002    3300\n",
       "BA02T003SE004T003    3053\n",
       "BA35G010SE010G010    3016\n",
       "BA01T002SE038T002    2970\n",
       "                     ... \n",
       "BA42G216SE187G216      10\n",
       "BA87T005SE275T005       7\n",
       "BA01G460SE002G460       7\n",
       "BA56T005SE276T005       7\n",
       "BA65T005SE277T005       7\n",
       "Name: barra_mnemotecnico, Length: 1039, dtype: int64"
      ]
     },
     "execution_count": 120,
     "metadata": {},
     "output_type": "execute_result"
    }
   ],
   "source": [
    "# Unión\n",
    "pd.merge(costo_marginal_real_df, costo_marginal_programado_df, on='barra_mnemotecnico', how='outer')['barra_mnemotecnico'].value_counts()"
   ]
  },
  {
   "cell_type": "markdown",
   "metadata": {},
   "source": [
    "Con esto vemos que el costo se programa para 220 barras (intersección), del total de 1039 barras (unión). Es decir, el costo se programa usando un 21.17% de los valores únicos de barra.\n",
    "\n",
    "** Como estamos usando un subconjunto aleatorio de las bases de datos, estos valores pueden cambiar."
   ]
  },
  {
   "cell_type": "code",
   "execution_count": null,
   "metadata": {},
   "outputs": [],
   "source": []
  },
  {
   "cell_type": "markdown",
   "metadata": {},
   "source": [
    "### 2. Construcción de variables"
   ]
  },
  {
   "cell_type": "code",
   "execution_count": 121,
   "metadata": {},
   "outputs": [],
   "source": [
    "costo_marginal['desviación'] = costo_marginal['costo_en_dolares'] - costo_marginal['costo']"
   ]
  },
  {
   "cell_type": "code",
   "execution_count": 122,
   "metadata": {},
   "outputs": [],
   "source": [
    "costo_marginal['desviación_pct'] = (costo_marginal['costo_en_dolares'] - costo_marginal['costo'])*100/costo_marginal['costo_en_dolares']"
   ]
  },
  {
   "cell_type": "code",
   "execution_count": 123,
   "metadata": {},
   "outputs": [],
   "source": [
    "costo_marginal['desviacion_cat'] = 0\n",
    "costo_marginal.loc[(abs(costo_marginal['desviación_pct']) > 15), 'desviacion_cat'] = 1"
   ]
  },
  {
   "cell_type": "code",
   "execution_count": 212,
   "metadata": {},
   "outputs": [
    {
     "data": {
      "text/html": [
       "<div>\n",
       "<style scoped>\n",
       "    .dataframe tbody tr th:only-of-type {\n",
       "        vertical-align: middle;\n",
       "    }\n",
       "\n",
       "    .dataframe tbody tr th {\n",
       "        vertical-align: top;\n",
       "    }\n",
       "\n",
       "    .dataframe thead th {\n",
       "        text-align: right;\n",
       "    }\n",
       "</style>\n",
       "<table border=\"1\" class=\"dataframe\">\n",
       "  <thead>\n",
       "    <tr style=\"text-align: right;\">\n",
       "      <th></th>\n",
       "      <th>barra_mnemotecnico</th>\n",
       "      <th>barra_referencia_mnemotecnico</th>\n",
       "      <th>fecha_x</th>\n",
       "      <th>hora_x</th>\n",
       "      <th>costo_en_dolares</th>\n",
       "      <th>costo_en_pesos</th>\n",
       "      <th>nombre</th>\n",
       "      <th>nombre_barra</th>\n",
       "      <th>fecha_y</th>\n",
       "      <th>hora_y</th>\n",
       "      <th>costo</th>\n",
       "      <th>desviación</th>\n",
       "      <th>desviación_pct</th>\n",
       "      <th>desviacion_cat</th>\n",
       "    </tr>\n",
       "  </thead>\n",
       "  <tbody>\n",
       "    <tr>\n",
       "      <th>0</th>\n",
       "      <td>BA01G306SE001G306</td>\n",
       "      <td>BA02T002SE032T002</td>\n",
       "      <td>2019-04-10</td>\n",
       "      <td>24</td>\n",
       "      <td>47.08</td>\n",
       "      <td>31.21451</td>\n",
       "      <td>BA S/E CERRO DOMINADOR 220KV BP</td>\n",
       "      <td>BA S/E CERRO DOMINADOR 220KV BP</td>\n",
       "      <td>2019-01-15</td>\n",
       "      <td>2</td>\n",
       "      <td>79.498894</td>\n",
       "      <td>-32.418894</td>\n",
       "      <td>-68.859164</td>\n",
       "      <td>1</td>\n",
       "    </tr>\n",
       "    <tr>\n",
       "      <th>1</th>\n",
       "      <td>BA01G306SE001G306</td>\n",
       "      <td>BA02T002SE032T002</td>\n",
       "      <td>2019-04-10</td>\n",
       "      <td>24</td>\n",
       "      <td>47.08</td>\n",
       "      <td>31.21451</td>\n",
       "      <td>BA S/E CERRO DOMINADOR 220KV BP</td>\n",
       "      <td>BA S/E CERRO DOMINADOR 220KV BP</td>\n",
       "      <td>2019-04-24</td>\n",
       "      <td>13</td>\n",
       "      <td>64.563588</td>\n",
       "      <td>-17.483588</td>\n",
       "      <td>-37.135913</td>\n",
       "      <td>1</td>\n",
       "    </tr>\n",
       "    <tr>\n",
       "      <th>2</th>\n",
       "      <td>BA01G306SE001G306</td>\n",
       "      <td>BA02T002SE032T002</td>\n",
       "      <td>2019-04-10</td>\n",
       "      <td>24</td>\n",
       "      <td>47.08</td>\n",
       "      <td>31.21451</td>\n",
       "      <td>BA S/E CERRO DOMINADOR 220KV BP</td>\n",
       "      <td>BA S/E CERRO DOMINADOR 220KV BP</td>\n",
       "      <td>2019-01-27</td>\n",
       "      <td>7</td>\n",
       "      <td>52.560398</td>\n",
       "      <td>-5.480398</td>\n",
       "      <td>-11.640607</td>\n",
       "      <td>0</td>\n",
       "    </tr>\n",
       "    <tr>\n",
       "      <th>3</th>\n",
       "      <td>BA01G306SE001G306</td>\n",
       "      <td>BA02T002SE032T002</td>\n",
       "      <td>2019-04-10</td>\n",
       "      <td>24</td>\n",
       "      <td>47.08</td>\n",
       "      <td>31.21451</td>\n",
       "      <td>BA S/E CERRO DOMINADOR 220KV BP</td>\n",
       "      <td>BA S/E CERRO DOMINADOR 220KV BP</td>\n",
       "      <td>2019-04-24</td>\n",
       "      <td>17</td>\n",
       "      <td>42.847442</td>\n",
       "      <td>4.232558</td>\n",
       "      <td>8.990140</td>\n",
       "      <td>0</td>\n",
       "    </tr>\n",
       "    <tr>\n",
       "      <th>4</th>\n",
       "      <td>BA01G306SE001G306</td>\n",
       "      <td>BA02T002SE032T002</td>\n",
       "      <td>2019-04-10</td>\n",
       "      <td>24</td>\n",
       "      <td>47.08</td>\n",
       "      <td>31.21451</td>\n",
       "      <td>BA S/E CERRO DOMINADOR 220KV BP</td>\n",
       "      <td>BA S/E CERRO DOMINADOR 220KV BP</td>\n",
       "      <td>2019-01-03</td>\n",
       "      <td>21</td>\n",
       "      <td>61.213021</td>\n",
       "      <td>-14.133021</td>\n",
       "      <td>-30.019161</td>\n",
       "      <td>1</td>\n",
       "    </tr>\n",
       "  </tbody>\n",
       "</table>\n",
       "</div>"
      ],
      "text/plain": [
       "  barra_mnemotecnico barra_referencia_mnemotecnico    fecha_x  hora_x  \\\n",
       "0  BA01G306SE001G306             BA02T002SE032T002 2019-04-10      24   \n",
       "1  BA01G306SE001G306             BA02T002SE032T002 2019-04-10      24   \n",
       "2  BA01G306SE001G306             BA02T002SE032T002 2019-04-10      24   \n",
       "3  BA01G306SE001G306             BA02T002SE032T002 2019-04-10      24   \n",
       "4  BA01G306SE001G306             BA02T002SE032T002 2019-04-10      24   \n",
       "\n",
       "   costo_en_dolares  costo_en_pesos                           nombre  \\\n",
       "0             47.08        31.21451  BA S/E CERRO DOMINADOR 220KV BP   \n",
       "1             47.08        31.21451  BA S/E CERRO DOMINADOR 220KV BP   \n",
       "2             47.08        31.21451  BA S/E CERRO DOMINADOR 220KV BP   \n",
       "3             47.08        31.21451  BA S/E CERRO DOMINADOR 220KV BP   \n",
       "4             47.08        31.21451  BA S/E CERRO DOMINADOR 220KV BP   \n",
       "\n",
       "                      nombre_barra    fecha_y  hora_y      costo  desviación  \\\n",
       "0  BA S/E CERRO DOMINADOR 220KV BP 2019-01-15       2  79.498894  -32.418894   \n",
       "1  BA S/E CERRO DOMINADOR 220KV BP 2019-04-24      13  64.563588  -17.483588   \n",
       "2  BA S/E CERRO DOMINADOR 220KV BP 2019-01-27       7  52.560398   -5.480398   \n",
       "3  BA S/E CERRO DOMINADOR 220KV BP 2019-04-24      17  42.847442    4.232558   \n",
       "4  BA S/E CERRO DOMINADOR 220KV BP 2019-01-03      21  61.213021  -14.133021   \n",
       "\n",
       "   desviación_pct  desviacion_cat  \n",
       "0      -68.859164               1  \n",
       "1      -37.135913               1  \n",
       "2      -11.640607               0  \n",
       "3        8.990140               0  \n",
       "4      -30.019161               1  "
      ]
     },
     "execution_count": 212,
     "metadata": {},
     "output_type": "execute_result"
    }
   ],
   "source": [
    "costo_marginal.head()"
   ]
  },
  {
   "cell_type": "code",
   "execution_count": 213,
   "metadata": {},
   "outputs": [],
   "source": [
    "costo_marginal.fecha_x = pd.to_datetime(costo_marginal.fecha_x, format='%Y-%m-%d')\n",
    "costo_marginal.fecha_y = pd.to_datetime(costo_marginal.fecha_y, format='%Y-%m-%d')"
   ]
  },
  {
   "cell_type": "code",
   "execution_count": 215,
   "metadata": {},
   "outputs": [],
   "source": [
    "one_df=costo_marginal[costo_marginal['desviacion_cat']==1]\n",
    "cero_df=costo_marginal[costo_marginal['desviacion_cat']==0]"
   ]
  },
  {
   "cell_type": "code",
   "execution_count": 223,
   "metadata": {},
   "outputs": [
    {
     "name": "stdout",
     "output_type": "stream",
     "text": [
      "fecha_x  fecha_x\n",
      "2019     1          37088\n",
      "         2          35025\n",
      "         3          38516\n",
      "         4          36825\n",
      "         5          40720\n",
      "         6          35176\n",
      "Name: desviacion_cat, dtype: int64 fecha_x  fecha_x\n",
      "2019     1          31967\n",
      "         2          27152\n",
      "         3          29638\n",
      "         4          24175\n",
      "         5          24909\n",
      "         6          30811\n",
      "Name: desviacion_cat, dtype: int64\n"
     ]
    }
   ],
   "source": [
    "x = one_df['desviacion_cat'].groupby([one_df['fecha_x'].dt.year, one_df['fecha_x'].dt.month]).count()\n",
    "y = cero_df['desviacion_cat'].groupby([cero_df['fecha_x'].dt.year, cero_df['fecha_x'].dt.month]).count()\n",
    "print(x,y)"
   ]
  },
  {
   "cell_type": "code",
   "execution_count": 227,
   "metadata": {},
   "outputs": [
    {
     "data": {
      "text/plain": [
       "fecha_x  fecha_x\n",
       "2019     1           5121\n",
       "         2           7873\n",
       "         3           8878\n",
       "         4          12650\n",
       "         5          15811\n",
       "         6           4365\n",
       "Name: desviacion_cat, dtype: int64"
      ]
     },
     "execution_count": 227,
     "metadata": {},
     "output_type": "execute_result"
    }
   ],
   "source": [
    "x-y"
   ]
  },
  {
   "cell_type": "markdown",
   "metadata": {},
   "source": [
    "Con esto notamos que la diferencia porcentual entre el costo real y el costo programado aumenta entre abril y mayo."
   ]
  },
  {
   "cell_type": "markdown",
   "metadata": {},
   "source": [
    "### 3. Visualización de datos"
   ]
  },
  {
   "cell_type": "code",
   "execution_count": null,
   "metadata": {},
   "outputs": [],
   "source": []
  }
 ],
 "metadata": {
  "kernelspec": {
   "display_name": "conda_python3",
   "language": "python",
   "name": "conda_python3"
  },
  "language_info": {
   "codemirror_mode": {
    "name": "ipython",
    "version": 3
   },
   "file_extension": ".py",
   "mimetype": "text/x-python",
   "name": "python",
   "nbconvert_exporter": "python",
   "pygments_lexer": "ipython3",
   "version": "3.6.10"
  }
 },
 "nbformat": 4,
 "nbformat_minor": 4
}
